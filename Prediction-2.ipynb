{
 "cells": [
  {
   "cell_type": "markdown",
   "id": "d62517c6",
   "metadata": {},
   "source": [
    "Drugs are generally administered/prescribed by the physicians for a certain\n",
    "period of time or they are administered at regular intervals, but for various reasons patients\n",
    "might stop taking the treatment . Consider following example for better understanding\n",
    "Let’s say you get a throat infection, the physician prescribes you an antibiotic for 10 days,\n",
    "but you stop taking the treatment after 3 days because of some adverse events.\n",
    "In the above example ideal treatment duration is 10 days but patients stopped taking\n",
    "treatment after 3 days due to adverse events. Patients stopping a treatment is called dropoff.\n",
    "We want to study dropoff for “Target Drug”, the aim is to generate insights on what events\n",
    "lead to patients stopping on “Target Drug”.\n",
    "Assume ideal treatment duration for “Target Drug” is 1 year, come up with analysis showing\n",
    "how drop-off rate is, dropoff rate is defined as number of patients dropping off each month.\n",
    "Then come up with analysis to generate insights on what events are driving a patient to stop\n",
    "taking “Target Drug”."
   ]
  },
  {
   "cell_type": "markdown",
   "id": "b7e8162a",
   "metadata": {},
   "source": [
    "## Importing Libraries"
   ]
  },
  {
   "cell_type": "code",
   "execution_count": 1,
   "id": "fabf80d6",
   "metadata": {},
   "outputs": [],
   "source": [
    "import pandas as pd"
   ]
  },
  {
   "cell_type": "markdown",
   "id": "8ac76b57",
   "metadata": {},
   "source": [
    "## Dataset"
   ]
  },
  {
   "cell_type": "code",
   "execution_count": 2,
   "id": "2fea7096",
   "metadata": {},
   "outputs": [
    {
     "data": {
      "text/html": [
       "<div>\n",
       "<style scoped>\n",
       "    .dataframe tbody tr th:only-of-type {\n",
       "        vertical-align: middle;\n",
       "    }\n",
       "\n",
       "    .dataframe tbody tr th {\n",
       "        vertical-align: top;\n",
       "    }\n",
       "\n",
       "    .dataframe thead th {\n",
       "        text-align: right;\n",
       "    }\n",
       "</style>\n",
       "<table border=\"1\" class=\"dataframe\">\n",
       "  <thead>\n",
       "    <tr style=\"text-align: right;\">\n",
       "      <th></th>\n",
       "      <th>Patient-Uid</th>\n",
       "      <th>Date</th>\n",
       "      <th>Incident</th>\n",
       "    </tr>\n",
       "  </thead>\n",
       "  <tbody>\n",
       "    <tr>\n",
       "      <th>0</th>\n",
       "      <td>a0db1e73-1c7c-11ec-ae39-16262ee38c7f</td>\n",
       "      <td>2019-03-09</td>\n",
       "      <td>PRIMARY_DIAGNOSIS</td>\n",
       "    </tr>\n",
       "    <tr>\n",
       "      <th>1</th>\n",
       "      <td>a0dc93f2-1c7c-11ec-9cd2-16262ee38c7f</td>\n",
       "      <td>2015-05-16</td>\n",
       "      <td>PRIMARY_DIAGNOSIS</td>\n",
       "    </tr>\n",
       "    <tr>\n",
       "      <th>3</th>\n",
       "      <td>a0dc94c6-1c7c-11ec-a3a0-16262ee38c7f</td>\n",
       "      <td>2018-01-30</td>\n",
       "      <td>SYMPTOM_TYPE_0</td>\n",
       "    </tr>\n",
       "    <tr>\n",
       "      <th>4</th>\n",
       "      <td>a0dc950b-1c7c-11ec-b6ec-16262ee38c7f</td>\n",
       "      <td>2015-04-22</td>\n",
       "      <td>DRUG_TYPE_0</td>\n",
       "    </tr>\n",
       "    <tr>\n",
       "      <th>8</th>\n",
       "      <td>a0dc9543-1c7c-11ec-bb63-16262ee38c7f</td>\n",
       "      <td>2016-06-18</td>\n",
       "      <td>DRUG_TYPE_1</td>\n",
       "    </tr>\n",
       "    <tr>\n",
       "      <th>...</th>\n",
       "      <td>...</td>\n",
       "      <td>...</td>\n",
       "      <td>...</td>\n",
       "    </tr>\n",
       "    <tr>\n",
       "      <th>29080886</th>\n",
       "      <td>a0ee9f75-1c7c-11ec-94c7-16262ee38c7f</td>\n",
       "      <td>2018-07-06</td>\n",
       "      <td>DRUG_TYPE_6</td>\n",
       "    </tr>\n",
       "    <tr>\n",
       "      <th>29080897</th>\n",
       "      <td>a0ee1284-1c7c-11ec-a3d5-16262ee38c7f</td>\n",
       "      <td>2017-12-29</td>\n",
       "      <td>DRUG_TYPE_6</td>\n",
       "    </tr>\n",
       "    <tr>\n",
       "      <th>29080900</th>\n",
       "      <td>a0ee9b26-1c7c-11ec-8a40-16262ee38c7f</td>\n",
       "      <td>2018-10-18</td>\n",
       "      <td>DRUG_TYPE_10</td>\n",
       "    </tr>\n",
       "    <tr>\n",
       "      <th>29080903</th>\n",
       "      <td>a0ee1a92-1c7c-11ec-8341-16262ee38c7f</td>\n",
       "      <td>2015-09-18</td>\n",
       "      <td>DRUG_TYPE_6</td>\n",
       "    </tr>\n",
       "    <tr>\n",
       "      <th>29080911</th>\n",
       "      <td>a0ee146e-1c7c-11ec-baee-16262ee38c7f</td>\n",
       "      <td>2018-10-05</td>\n",
       "      <td>DRUG_TYPE_1</td>\n",
       "    </tr>\n",
       "  </tbody>\n",
       "</table>\n",
       "<p>3220868 rows × 3 columns</p>\n",
       "</div>"
      ],
      "text/plain": [
       "                                   Patient-Uid       Date           Incident\n",
       "0         a0db1e73-1c7c-11ec-ae39-16262ee38c7f 2019-03-09  PRIMARY_DIAGNOSIS\n",
       "1         a0dc93f2-1c7c-11ec-9cd2-16262ee38c7f 2015-05-16  PRIMARY_DIAGNOSIS\n",
       "3         a0dc94c6-1c7c-11ec-a3a0-16262ee38c7f 2018-01-30     SYMPTOM_TYPE_0\n",
       "4         a0dc950b-1c7c-11ec-b6ec-16262ee38c7f 2015-04-22        DRUG_TYPE_0\n",
       "8         a0dc9543-1c7c-11ec-bb63-16262ee38c7f 2016-06-18        DRUG_TYPE_1\n",
       "...                                        ...        ...                ...\n",
       "29080886  a0ee9f75-1c7c-11ec-94c7-16262ee38c7f 2018-07-06        DRUG_TYPE_6\n",
       "29080897  a0ee1284-1c7c-11ec-a3d5-16262ee38c7f 2017-12-29        DRUG_TYPE_6\n",
       "29080900  a0ee9b26-1c7c-11ec-8a40-16262ee38c7f 2018-10-18       DRUG_TYPE_10\n",
       "29080903  a0ee1a92-1c7c-11ec-8341-16262ee38c7f 2015-09-18        DRUG_TYPE_6\n",
       "29080911  a0ee146e-1c7c-11ec-baee-16262ee38c7f 2018-10-05        DRUG_TYPE_1\n",
       "\n",
       "[3220868 rows x 3 columns]"
      ]
     },
     "execution_count": 2,
     "metadata": {},
     "output_type": "execute_result"
    }
   ],
   "source": [
    "# Read the dataset\n",
    "df=pd.read_parquet('train.parquet')\n",
    "df"
   ]
  },
  {
   "cell_type": "markdown",
   "id": "604984ed",
   "metadata": {},
   "source": [
    "# Drop-off Rate"
   ]
  },
  {
   "cell_type": "markdown",
   "id": "f8b5a9f1",
   "metadata": {},
   "source": [
    "To analyze the drop-off rate for \"Target Drug\" and identify the events driving patients to stop taking the drug:\n",
    "\n",
    "    Calculate the drop-off rate:\n",
    "    \n",
    "        Extract the relevant columns from the dataset, including \"Patient-Uid\" and \"Date\" for drop-off events.\n",
    "        Filter the data to include only patients who have taken the \"Target Drug\" at least once.\n",
    "        Group the data by month and count the number of unique patients who dropped off within each month.\n",
    "        Calculate the drop-off rate by dividing the number of drop-offs by the total number of patients who started the treatment in each month.\n",
    "\n",
    "    Analyze events driving drop-offs:\n",
    "    \n",
    "        Identify the adverse events or other relevant columns in the dataset that might indicate the reasons for drop-offs.\n",
    "        Extract the necessary columns for analysis, including \"Patient-Uid\", \"Date\", and the relevant event columns.\n",
    "        Filter the data to include only patients who dropped off the treatment.\n",
    "        Analyze the occurrence and patterns of events leading to drop-offs, such as adverse events or specific conditions."
   ]
  },
  {
   "cell_type": "code",
   "execution_count": 4,
   "id": "57f9c7dc",
   "metadata": {},
   "outputs": [
    {
     "name": "stdout",
     "output_type": "stream",
     "text": [
      "Drop-off Rate:\n",
      "Month\n",
      "2017-02       1\n",
      "2017-03       2\n",
      "2017-04       1\n",
      "2017-05       5\n",
      "2017-06      11\n",
      "2017-07       6\n",
      "2017-08      10\n",
      "2017-09       6\n",
      "2017-10       6\n",
      "2017-11       6\n",
      "2017-12      14\n",
      "2018-01      15\n",
      "2018-02      19\n",
      "2018-03     472\n",
      "2018-04     732\n",
      "2018-05    1042\n",
      "2018-06    1217\n",
      "2018-07    1244\n",
      "2018-08    1522\n",
      "2018-09    1397\n",
      "2018-10    1620\n",
      "2018-11    1661\n",
      "2018-12    1623\n",
      "2019-01    1907\n",
      "2019-02    1596\n",
      "2019-03    1781\n",
      "2019-04    1869\n",
      "2019-05    2207\n",
      "2019-06    2089\n",
      "2019-07    2253\n",
      "2019-08    2457\n",
      "2019-09    2152\n",
      "2019-10    2627\n",
      "2019-11    2383\n",
      "2019-12    2502\n",
      "2020-01    2558\n",
      "2020-02    2517\n",
      "2020-03    2372\n",
      "2020-04    2652\n",
      "2020-05    2728\n",
      "2020-06    2674\n",
      "2020-07    2946\n",
      "2020-08    2383\n",
      "2020-09     384\n",
      "Freq: M, Name: Patient-Uid, dtype: int64\n",
      "Drop-off Events Data:\n"
     ]
    }
   ],
   "source": [
    "train_data = df.copy()\n",
    "# Filter the data to include only the patients who have taken the \"Target Drug\" at least once\n",
    "target_drug_patients = train_data[train_data['Incident'] == 'TARGET DRUG']\n",
    "\n",
    "# Calculate the drop-off rate\n",
    "dropoff_data = target_drug_patients[['Patient-Uid', 'Date']].copy()\n",
    "dropoff_data['Month'] = dropoff_data['Date'].dt.to_period('M')\n",
    "dropoff_rate = dropoff_data.groupby('Month')['Patient-Uid'].nunique()\n",
    "\n",
    "# Print the drop-off rate\n",
    "print(\"Drop-off Rate:\")\n",
    "print(dropoff_rate)\n",
    "\n",
    "# Analyze events driving drop-offs\n",
    "events_data = train_data[['Patient-Uid', 'Date', 'Incident']].copy()\n",
    "dropoff_events = events_data[events_data['Patient-Uid'].isin(target_drug_patients['Patient-Uid']"
   ]
  },
  {
   "cell_type": "code",
   "execution_count": 11,
   "id": "59dcca4d",
   "metadata": {},
   "outputs": [
    {
     "name": "stdout",
     "output_type": "stream",
     "text": [
      "Drop-off Events Data:\n",
      "\n",
      "                                    Patient-Uid       Date           Incident\n",
      "8         a0e9c384-1c7c-11ec-81a0-16262ee38c7f 2018-02-22     SYMPTOM_TYPE_6\n",
      "22        a0e9c3b3-1c7c-11ec-ae8e-16262ee38c7f 2018-02-21     SYMPTOM_TYPE_6\n",
      "23        a0e9c3e3-1c7c-11ec-a8b9-16262ee38c7f 2017-05-11    SYMPTOM_TYPE_10\n",
      "29        a0e9c414-1c7c-11ec-889a-16262ee38c7f 2019-11-22  PRIMARY_DIAGNOSIS\n",
      "32        a0e9c443-1c7c-11ec-9eb0-16262ee38c7f 2020-01-28  PRIMARY_DIAGNOSIS\n",
      "...                                        ...        ...                ...\n",
      "29080886  a0ee9f75-1c7c-11ec-94c7-16262ee38c7f 2018-07-06        DRUG_TYPE_6\n",
      "29080897  a0ee1284-1c7c-11ec-a3d5-16262ee38c7f 2017-12-29        DRUG_TYPE_6\n",
      "29080900  a0ee9b26-1c7c-11ec-8a40-16262ee38c7f 2018-10-18       DRUG_TYPE_10\n",
      "29080903  a0ee1a92-1c7c-11ec-8341-16262ee38c7f 2015-09-18        DRUG_TYPE_6\n",
      "29080911  a0ee146e-1c7c-11ec-baee-16262ee38c7f 2018-10-05        DRUG_TYPE_1\n",
      "\n",
      "[1436789 rows x 3 columns]\n"
     ]
    }
   ],
   "source": [
    "# Print the drop-off events data\n",
    "print(\"Drop-off Events Data:\\n\\n\",dropoff_events)"
   ]
  },
  {
   "cell_type": "markdown",
   "id": "a499130f",
   "metadata": {},
   "source": [
    "This code calculates the drop-off rate by grouping the drop-off events by month and counting the number of unique patients. It also extracts the events data for patients who dropped off and allows for further analysis of the specific events leading to drop-offs."
   ]
  }
 ],
 "metadata": {
  "kernelspec": {
   "display_name": "Python 3 (ipykernel)",
   "language": "python",
   "name": "python3"
  },
  "language_info": {
   "codemirror_mode": {
    "name": "ipython",
    "version": 3
   },
   "file_extension": ".py",
   "mimetype": "text/x-python",
   "name": "python",
   "nbconvert_exporter": "python",
   "pygments_lexer": "ipython3",
   "version": "3.9.12"
  }
 },
 "nbformat": 4,
 "nbformat_minor": 5
}
